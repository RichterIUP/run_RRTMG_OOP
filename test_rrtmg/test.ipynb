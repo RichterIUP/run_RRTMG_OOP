{
 "cells": [
  {
   "cell_type": "code",
   "execution_count": 1,
   "metadata": {},
   "outputs": [],
   "source": [
    "import os\n",
    "import subprocess"
   ]
  },
  {
   "cell_type": "code",
   "execution_count": 2,
   "metadata": {},
   "outputs": [],
   "source": [
    "binary_lw = \"../rrtmg_lw_v5.00_linux_pgi\"\n",
    "binary_sw = \"../rrtmg_sw_v5.00_linux_pgi\""
   ]
  },
  {
   "cell_type": "markdown",
   "metadata": {},
   "source": [
    "## Test RRTMG_LW"
   ]
  },
  {
   "cell_type": "code",
   "execution_count": 3,
   "metadata": {},
   "outputs": [
    {
     "name": "stdout",
     "output_type": "stream",
     "text": [
      "(0, '.ipynb_checkpoints')\n",
      "(1, 'INPUT_RRTM')\n",
      "(2, 'IN_AER_RRTM')\n",
      "(3, 'IN_CLD_RRTM')\n",
      "(4, 'in_aer_rrtm-aer12')\n",
      "(5, 'in_cld_rrtm-cld5')\n",
      "(6, 'in_cld_rrtm-cld7')\n",
      "(7, 'input_rrtm_ICRCCM_sonde')\n",
      "(8, 'input_rrtm_MLS-cld-imca0-icld2')\n",
      "(9, 'input_rrtm_MLS-cld-imca1-icld2')\n",
      "(10, 'input_rrtm_MLS-cld-imca1-icld4-idcor0')\n",
      "(11, 'input_rrtm_MLS-cld-imca1-icld5-idcor0')\n",
      "(12, 'input_rrtm_MLS-cld-imca1-icld5-idcor1')\n",
      "(13, 'input_rrtm_MLS-clr')\n",
      "(14, 'input_rrtm_MLS-clr-aer12')\n",
      "(15, 'input_rrtm_MLS-clr-idrv1')\n",
      "(16, 'input_rrtm_MLS-clr-xsec')\n",
      "(17, 'input_rrtm_MLW-clr')\n",
      "(18, 'input_rrtm_SAW-clr')\n",
      "(19, 'input_rrtm_TROP-clr')\n",
      "(20, 'output_rrtm_ICRCCM_sonde')\n",
      "(21, 'output_rrtm_MLS-cld5-imca0-icld2')\n",
      "(22, 'output_rrtm_MLS-cld5-imca1-icld2')\n",
      "(23, 'output_rrtm_MLS-cld7-imca1-icld2')\n",
      "(24, 'output_rrtm_MLS-cld7-imca1-icld4-idcor0')\n",
      "(25, 'output_rrtm_MLS-cld7-imca1-icld5-idcor0')\n",
      "(26, 'output_rrtm_MLS-cld7-imca1-icld5-idcor1')\n",
      "(27, 'output_rrtm_MLS-clr')\n",
      "(28, 'output_rrtm_MLS-clr-aer12')\n",
      "(29, 'output_rrtm_MLS-clr-idrv1')\n",
      "(30, 'output_rrtm_MLS-clr-xsec')\n",
      "(31, 'output_rrtm_MLW-clr')\n",
      "(32, 'output_rrtm_SAW-clr')\n",
      "(33, 'output_rrtm_TROP-clr')\n",
      "(34, 'script.run_std_atm')\n",
      "input_rrtm_MLS-clr-aer12 output_rrtm_MLS-clr-aer12 in_cld_rrtm-cld5\n",
      "Similar? False\n",
      "       rrtmg_lw.1col.f90:  $Revision$                    rrtmg_lw_init.f90:  $Revision$\n",
      "       rrtmg_lw.1col.f90:  $Revision: 33223 $            rrtmg_lw_init.f90:  $Revision: 33223 $\n",
      "Similar? False\n",
      "     rrtmglw_cldprop.f90:  $Revision$                  rrtmglw_cldprmc.f90:  NOT USED\n",
      "     rrtmglw_cldprop.f90:  $Revision: 33223 $          rrtmglw_cldprmc.f90:  NOT USED\n",
      "Similar? False\n",
      "       rrtmg_lw_rtrn.f90:  NOT USED                    rrtmg_lw_rtrnmr.f90:  $Revision$\n",
      "       rrtmg_lw_rtrn.f90:  NOT USED                    rrtmg_lw_rtrnmr.f90:  $Revision: 33223 $\n",
      "Similar? False\n",
      "     rrtmg_lw_rtrnmc.f90:  NOT USED                    rrtmglw_setcoef.f90:  $Revision$\n",
      "     rrtmg_lw_rtrnmc.f90:  NOT USED                    rrtmglw_setcoef.f90:  $Revision: 33223 $\n",
      "Similar? False\n",
      "     rrtmg_lw_taumol.f90:  $Revision$                             rrtatm.f:  NOT USED\n",
      "     rrtmg_lw_taumol.f90:  $Revision: 33223 $                     rrtatm.f:  NOT USED\n",
      "Similar? False\n",
      "        rrtmg_lw_k_g.f90:  $Revision$\n",
      "        rrtmg_lw_k_g.f90:  $Revision: 33223 $\n"
     ]
    }
   ],
   "source": [
    "files = sorted(os.listdir(\"lw\"))\n",
    "for i in enumerate(files):\n",
    "    print(i)\n",
    "file_in = files[14]\n",
    "file_out = files[28]\n",
    "file_cld = files[5]\n",
    "print(file_in, file_out, file_cld)\n",
    "subprocess.call([\"cp\", \"lw/{}\".format(file_in), \"INPUT_RRTM\"])\n",
    "subprocess.call([\"cp\", \"lw/in_aer_rrtm-aer12\", \"IN_AER_RRTM\"])\n",
    "subprocess.call([\"cp\", \"lw/{}\".format(file_cld), \"IN_CLD_RRTM\"])\n",
    "subprocess.call([binary_lw])\n",
    "f = open(\"OUTPUT_RRTM\", \"r\")\n",
    "g = open(\"lw/{}\".format(file_out), \"r\")\n",
    "cont_f = f.readlines()\n",
    "cont_g = g.readlines()\n",
    "for line in enumerate(cont_f):\n",
    "    if not cont_f[line[0]] == cont_g[line[0]]:\n",
    "        print(\"Similar? {}\".format(cont_f[line[0]] == cont_g[line[0]]))\n",
    "        print(cont_f[line[0]].rstrip())\n",
    "        print(cont_g[line[0]].rstrip())"
   ]
  },
  {
   "cell_type": "markdown",
   "metadata": {},
   "source": [
    "## Test RRTMG_SW"
   ]
  },
  {
   "cell_type": "code",
   "execution_count": 4,
   "metadata": {},
   "outputs": [
    {
     "name": "stdout",
     "output_type": "stream",
     "text": [
      "(0, 'INPUT_RRTM')\n",
      "(1, 'IN_AER_RRTM')\n",
      "(2, 'IN_CLD_RRTM')\n",
      "(3, 'in_aer_rrtm-aer12')\n",
      "(4, 'in_cld_rrtm-cld5')\n",
      "(5, 'in_cld_rrtm-cld6')\n",
      "(6, 'in_cld_rrtm-cld7')\n",
      "(7, 'input_rrtm_MLS-cld-imca0-icld2')\n",
      "(8, 'input_rrtm_MLS-cld-imca1-icld2')\n",
      "(9, 'input_rrtm_MLS-cld-imca1-icld5-idcor0')\n",
      "(10, 'input_rrtm_MLS-cld-imca1-icld5-idcor1')\n",
      "(11, 'input_rrtm_MLS-clr')\n",
      "(12, 'input_rrtm_MLS-clr-aer12')\n",
      "(13, 'input_rrtm_MLS-clr-sza45-isolvar0_tsi_avg')\n",
      "(14, 'input_rrtm_MLS-clr-sza45-isolvar1_tsi_max')\n",
      "(15, 'input_rrtm_MLS-clr-sza45-isolvar1_tsi_min')\n",
      "(16, 'input_rrtm_MLS-clr-sza45-isolvar2_01Jan1950')\n",
      "(17, 'input_rrtm_MLS-clr-sza45-isolvar3_bndscl_tsi_max')\n",
      "(18, 'input_rrtm_MLS-clr-sza65')\n",
      "(19, 'input_rrtm_MLW-clr')\n",
      "(20, 'input_rrtm_SAW-clr')\n",
      "(21, 'input_rrtm_TROP-clr')\n",
      "(22, 'output_rrtm_MLS-cld5-imca1-icld2')\n",
      "(23, 'output_rrtm_MLS-cld6-imca0-icld2')\n",
      "(24, 'output_rrtm_MLS-cld7-imca1-icld2')\n",
      "(25, 'output_rrtm_MLS-cld7-imca1-icld5-idcor0')\n",
      "(26, 'output_rrtm_MLS-cld7-imca1-icld5-idcor1')\n",
      "(27, 'output_rrtm_MLS-clr')\n",
      "(28, 'output_rrtm_MLS-clr-aer12')\n",
      "(29, 'output_rrtm_MLS-clr-sza45-isolvar0_tsi_avg')\n",
      "(30, 'output_rrtm_MLS-clr-sza45-isolvar1_tsi_max')\n",
      "(31, 'output_rrtm_MLS-clr-sza45-isolvar1_tsi_min')\n",
      "(32, 'output_rrtm_MLS-clr-sza45-isolvar2_01Jan1950')\n",
      "(33, 'output_rrtm_MLS-clr-sza45-isolvar3_bndscl_tsi_max')\n",
      "(34, 'output_rrtm_MLS-clr-sza65')\n",
      "(35, 'output_rrtm_MLW-clr')\n",
      "(36, 'output_rrtm_SAW-clr')\n",
      "(37, 'output_rrtm_TROP-clr')\n",
      "(38, 'script.run_std_atm')\n",
      "input_rrtm_MLS-cld-imca0-icld2 output_rrtm_MLS-cld6-imca0-icld2 in_cld_rrtm-cld6\n",
      "Similar? False\n",
      "       rrtmg_sw.1col.f90:  $Revision$                    rrtmg_sw_init.f90:  $Revision$\n",
      "       rrtmg_sw.1col.f90:  $Revision: 33222 $            rrtmg_sw_init.f90:  $Revision: 33222 $\n",
      "Similar? False\n",
      "     rrtmgsw_cldprop.f90:  $Revision$                  rrtmgsw_cldprmc.f90:  NOT USED\n",
      "     rrtmgsw_cldprop.f90:  $Revision: 33222 $          rrtmgsw_cldprmc.f90:  NOT USED\n",
      "Similar? False\n",
      "     rrtmg_sw_reftra.f90:  $Revision$                  rrtmg_sw_spcvrt.f90:  NOT USED\n",
      "     rrtmg_sw_reftra.f90:  $Revision: 33222 $          rrtmg_sw_spcvrt.f90:  NOT USED\n",
      "Similar? False\n",
      "     rrtmg_sw_taumol.f90:  $Revision$                  rrtmg_sw_vrtqdr.f90:  NOT USED\n",
      "     rrtmg_sw_taumol.f90:  $Revision: 33222 $          rrtmg_sw_vrtqdr.f90:  NOT USED\n",
      "Similar? False\n",
      "                 extra.f:  NOT USED                       rrtmg_sw_k_g.f90:  $Revision$\n",
      "                 extra.f:  NOT USED                       rrtmg_sw_k_g.f90:  $Revision: 33222 $\n"
     ]
    }
   ],
   "source": [
    "files = sorted(os.listdir(\"sw\"))\n",
    "for i in enumerate(files):\n",
    "    print(i)\n",
    "file_in = files[7]\n",
    "file_out = files[23]\n",
    "file_cld = files[5]\n",
    "print(file_in, file_out, file_cld)\n",
    "subprocess.call([\"cp\", \"sw/{}\".format(file_in), \"INPUT_RRTM\"])\n",
    "subprocess.call([\"cp\", \"sw/in_aer_rrtm-aer12\", \"IN_AER_RRTM\"])\n",
    "subprocess.call([\"cp\", \"sw/{}\".format(file_cld), \"IN_CLD_RRTM\"])\n",
    "subprocess.call([binary_sw])\n",
    "f = open(\"OUTPUT_RRTM\", \"r\")\n",
    "g = open(\"sw/{}\".format(file_out), \"r\")\n",
    "cont_f = f.readlines()\n",
    "cont_g = g.readlines()\n",
    "for line in enumerate(cont_f):\n",
    "    if not cont_f[line[0]] == cont_g[line[0]]:\n",
    "        print(\"Similar? {}\".format(cont_f[line[0]] == cont_g[line[0]]))\n",
    "        print(cont_f[line[0]].rstrip())\n",
    "        print(cont_g[line[0]].rstrip())"
   ]
  }
 ],
 "metadata": {
  "kernelspec": {
   "display_name": "v2020.3 LAMOS (py3.7.8)",
   "language": "python",
   "name": "lamos_2020.3"
  },
  "language_info": {
   "codemirror_mode": {
    "name": "ipython",
    "version": 3
   },
   "file_extension": ".py",
   "mimetype": "text/x-python",
   "name": "python",
   "nbconvert_exporter": "python",
   "pygments_lexer": "ipython3",
   "version": "3.7.8"
  }
 },
 "nbformat": 4,
 "nbformat_minor": 4
}
