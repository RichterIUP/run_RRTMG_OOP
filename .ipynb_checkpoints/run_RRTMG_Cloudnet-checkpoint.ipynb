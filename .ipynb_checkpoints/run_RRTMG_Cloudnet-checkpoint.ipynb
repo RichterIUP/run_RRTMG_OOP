{
 "cells": [
  {
   "cell_type": "code",
   "execution_count": 1,
   "metadata": {},
   "outputs": [],
   "source": [
    "import os\n",
    "import rrtmg as FLUXES\n",
    "import numpy as np"
   ]
  },
  {
   "cell_type": "code",
   "execution_count": 2,
   "metadata": {},
   "outputs": [],
   "source": [
    "## Profiles\n",
    "z = np.loadtxt(\"/home/philipp/Doktorandenzeit/SOFTWARE_PHD/Total_Cloud_Water_retrieval/retrieval/trace_gases/z.csv\", delimiter=\",\")\n",
    "co2 = np.loadtxt(\"/home/philipp/Doktorandenzeit/SOFTWARE_PHD/Total_Cloud_Water_retrieval/retrieval/trace_gases/co2.csv\", delimiter=\",\")\n",
    "o3 = np.loadtxt(\"/home/philipp/Doktorandenzeit/SOFTWARE_PHD/Total_Cloud_Water_retrieval/retrieval/trace_gases/o3.csv\", delimiter=\",\")\n",
    "ch4 = np.loadtxt(\"/home/philipp/Doktorandenzeit/SOFTWARE_PHD/Total_Cloud_Water_retrieval/retrieval/trace_gases/ch4.csv\", delimiter=\",\")\n",
    "n2o = np.loadtxt(\"/home/philipp/Doktorandenzeit/SOFTWARE_PHD/Total_Cloud_Water_retrieval/retrieval/trace_gases/n2o.csv\", delimiter=\",\")"
   ]
  },
  {
   "cell_type": "code",
   "execution_count": 24,
   "metadata": {},
   "outputs": [
    {
     "name": "stdout",
     "output_type": "stream",
     "text": [
      "12 81\n"
     ]
    }
   ],
   "source": [
    "import netCDF4 as nc\n",
    "with nc.Dataset(\"/home/philipp/ozone.nc\", \"r\") as f:\n",
    "    o3 = f.variables['o3'][:]\n",
    "    z_era5 = f.variables['z'][:]/9.80665*1e-3\n",
    "    lat = np.argmin(np.abs(np.array(f.variables['latitude'][:])-81.95))\n",
    "    lon = np.argmin(np.abs(np.array(f.variables['longitude'][:])-10.33))\n",
    "print(lat, lon)"
   ]
  },
  {
   "cell_type": "code",
   "execution_count": 4,
   "metadata": {},
   "outputs": [],
   "source": [
    "import scipy.interpolate\n",
    "o3_f = scipy.interpolate.interp1d(np.array(z_era5[0,:,12,81]), np.array(o3[0,:,12,81]), fill_value=\"extrapolate\")\n",
    "o3 = o3_f(np.array(z))"
   ]
  },
  {
   "cell_type": "code",
   "execution_count": 5,
   "metadata": {},
   "outputs": [
    {
     "data": {
      "text/plain": [
       "array([1.87079663e-08, 1.80474356e-08, 1.74183588e-08, 1.66320127e-08,\n",
       "       1.58456667e-08, 1.50593207e-08, 1.55685573e-08, 1.64187827e-08,\n",
       "       1.65888278e-08, 1.67588729e-08, 1.69289180e-08, 1.70989631e-08,\n",
       "       1.72690082e-08, 1.81192336e-08, 1.97041499e-08, 2.05312934e-08,\n",
       "       2.25991523e-08, 2.46670111e-08, 3.13899486e-08, 3.80712222e-08,\n",
       "       4.14118589e-08, 4.69795869e-08, 5.34639831e-08, 7.16622772e-08,\n",
       "       7.93198746e-08, 8.38139042e-08, 8.46887771e-08, 8.36986412e-08,\n",
       "       8.21286946e-08, 8.05019672e-08, 7.91857385e-08, 7.83520681e-08,\n",
       "       7.75183976e-08, 7.81825142e-08, 7.93873003e-08, 8.53666212e-08,\n",
       "       9.04523112e-08, 9.55380012e-08, 9.82239622e-08, 1.00698386e-07,\n",
       "       1.03031336e-07, 9.63047664e-08, 8.95781973e-08, 9.00685446e-08,\n",
       "       9.22204835e-08, 9.80256525e-08, 1.12719051e-07, 1.27412449e-07,\n",
       "       1.49026395e-07, 1.76426487e-07, 2.03826578e-07, 2.49141974e-07,\n",
       "       3.32312553e-07, 4.15483132e-07, 5.40466479e-07, 6.74418878e-07,\n",
       "       8.08371277e-07, 8.92277677e-07, 9.50970456e-07, 9.97279711e-07,\n",
       "       1.02586885e-06, 1.05139649e-06, 1.07621930e-06, 1.28806356e-06,\n",
       "       1.64231532e-06, 3.12616393e-06, 4.31897172e-06, 7.02935960e-06,\n",
       "       1.01098379e-05])"
      ]
     },
     "execution_count": 5,
     "metadata": {},
     "output_type": "execute_result"
    }
   ],
   "source": [
    "o3"
   ]
  },
  {
   "cell_type": "code",
   "execution_count": 6,
   "metadata": {},
   "outputs": [],
   "source": [
    "n2o = 0.31*np.ones(n2o.size)"
   ]
  },
  {
   "cell_type": "code",
   "execution_count": 7,
   "metadata": {},
   "outputs": [],
   "source": [
    "path_retrievals = \"/home/philipp/Doktorandenzeit/DATA_PHD/RRTMG/INPUT/INPUT_FOR_RRTMG/RRTMG_input_nomod\"\n",
    "ssp_ice = \"/home/philipp/Doktorandenzeit/SOFTWARE_PHD/Total_Cloud_Water_retrieval/ssp_database/ssp_db.Droxtal.gamma.0p100\"\n",
    "files = sorted(os.listdir(path_retrievals))"
   ]
  },
  {
   "cell_type": "code",
   "execution_count": 8,
   "metadata": {},
   "outputs": [],
   "source": [
    "model = FLUXES.RRTMG(os.getcwd() + \"/rrtmg_lw_v5.00_linux_pgi\", os.getcwd() + \"/rrtmg_sw_v5.00_linux_pgi\", \\\n",
    "                  [\"/home/philipp/Doktorandenzeit/SOFTWARE_PHD/Total_Cloud_Water_retrieval/ssp_database/ssp_db.mie_wat.gamma_sigma_0p100\", ssp_ice])"
   ]
  },
  {
   "cell_type": "code",
   "execution_count": 9,
   "metadata": {},
   "outputs": [
    {
     "name": "stdout",
     "output_type": "stream",
     "text": [
      "in_CNET_20170603_144315_81.950554_10.335514_62.74221266113166.nc\n"
     ]
    },
    {
     "data": {
      "text/plain": [
       "({'LWP(gm-2)': array([ 0.        ,  8.40795865, 28.5870593 ]),\n",
       "  'IWP(gm-2)': array([0.63293605, 0.74019275, 0.10181766]),\n",
       "  'rliq(um)': array([5.        , 9.99236736, 7.44119191]),\n",
       "  'rice(um)': array([47.57947922, 45.997962  , 43.39060135]),\n",
       "  'clt': array([1., 1., 1.]),\n",
       "  'red_chi_2': array(-1.)},\n",
       " {'Latitude': masked_array(data=81.950554,\n",
       "               mask=False,\n",
       "         fill_value=1e+20),\n",
       "  'Longitude': masked_array(data=10.335514,\n",
       "               mask=False,\n",
       "         fill_value=1e+20),\n",
       "  'SZA': masked_array(data=62.74221266,\n",
       "               mask=False,\n",
       "         fill_value=1e+20)})"
      ]
     },
     "execution_count": 9,
     "metadata": {},
     "output_type": "execute_result"
    }
   ],
   "source": [
    "epsilon = 0.99*np.ones(16)\n",
    "epsilon[np.array([5,6,7])] = 0.98\n",
    "spec = files[4700]\n",
    "print(spec)\n",
    "model.read_cloudnet(os.path.join(path_retrievals, spec))\n",
    "model.get_cparam(), model.get_position()"
   ]
  },
  {
   "cell_type": "code",
   "execution_count": 10,
   "metadata": {},
   "outputs": [
    {
     "name": "stdout",
     "output_type": "stream",
     "text": [
      "[0.01128928 0.01089068 0.01051107 0.01003655 0.00956203 0.00908751\n",
      " 0.00939481 0.00990788 0.01001049 0.0101131  0.01021572 0.01031833\n",
      " 0.01042094 0.01093401 0.01189042 0.01238956 0.0136374  0.01488525\n",
      " 0.01894219 0.02297399 0.02498989 0.02834972 0.03226271 0.04324443\n",
      " 0.04786539 0.0505773  0.05110524 0.05050775 0.04956037 0.04857872\n",
      " 0.04778445 0.04728137 0.04677829 0.04717905 0.04790608 0.05151429\n",
      " 0.05458323 0.05765218 0.05927302 0.0607662  0.06217402 0.05811488\n",
      " 0.05405575 0.05435165 0.05565023 0.05915335 0.06802004 0.07688674\n",
      " 0.08992962 0.10646415 0.12299867 0.15034413 0.20053322 0.25072231\n",
      " 0.32614322 0.40697647 0.48780973 0.53844285 0.57386087 0.60180608\n",
      " 0.61905813 0.63446272 0.64944199 0.7772789  0.99105129 1.88647621\n",
      " 2.60627325 4.24185039 6.10075771]\n"
     ]
    }
   ],
   "source": [
    "o3_ppmv = 28.9644 / 47.9982 * 1e6 * o3\n",
    "print(o3_ppmv)\n",
    "tg = model.read_trace_gases(z, co2, n2o, ch4, o3_ppmv)\n",
    "#model.plot_atmosphere()"
   ]
  },
  {
   "cell_type": "code",
   "execution_count": 17,
   "metadata": {},
   "outputs": [],
   "source": [
    "epsilon = 0.99*np.ones(16)\n",
    "epsilon[np.array([5,6,7])] = 0.98\n",
    "in_cld_rrtm = model.create_inputfile_cloud()\n",
    "input_rrtm = model.create_inputfile_atm_terrestrial(cloud=0, semiss=epsilon, atm=\"HAAA4A4\")\n",
    "model.run_RRTMG_terrestrial(clouds=False)\n",
    "input_rrtm = model.create_inputfile_atm_terrestrial(cloud=2, semiss=epsilon, atm=\"HAAA4A4\")\n",
    "model.run_RRTMG_terrestrial(clouds=True)\n",
    "#input_rrtm = model.create_inputfile_atm_solar(cloud=0)\n",
    "#model.run_RRTMG_solar(clouds=False)\n",
    "#input_rrtm = model.create_inputfile_atm_solar(cloud=2)\n",
    "#model.run_RRTMG_solar(clouds=True)"
   ]
  },
  {
   "cell_type": "code",
   "execution_count": 18,
   "metadata": {},
   "outputs": [],
   "source": [
    "fluxes_all = model.get_fluxes_terrestrial(17)['all']['DOWNWARD FLUX']-\\\n",
    "    model.get_fluxes_terrestrial(17)['clear']['DOWNWARD FLUX'] - \\\n",
    "    model.get_fluxes_terrestrial(17)['all']['UPWARD FLUX'] + \\\n",
    "    model.get_fluxes_terrestrial(17)['clear']['UPWARD FLUX']"
   ]
  },
  {
   "cell_type": "code",
   "execution_count": 19,
   "metadata": {},
   "outputs": [
    {
     "data": {
      "text/plain": [
       "75.78390000000005"
      ]
     },
     "execution_count": 19,
     "metadata": {},
     "output_type": "execute_result"
    }
   ],
   "source": [
    "fluxes_all.iloc[-1]"
   ]
  },
  {
   "cell_type": "raw",
   "metadata": {},
   "source": [
    "model.write_results(\"/home/philipp/out.nc\")"
   ]
  }
 ],
 "metadata": {
  "kernelspec": {
   "display_name": "Python 3",
   "language": "python",
   "name": "python3"
  },
  "language_info": {
   "codemirror_mode": {
    "name": "ipython",
    "version": 3
   },
   "file_extension": ".py",
   "mimetype": "text/x-python",
   "name": "python",
   "nbconvert_exporter": "python",
   "pygments_lexer": "ipython3",
   "version": "3.7.6"
  }
 },
 "nbformat": 4,
 "nbformat_minor": 4
}
