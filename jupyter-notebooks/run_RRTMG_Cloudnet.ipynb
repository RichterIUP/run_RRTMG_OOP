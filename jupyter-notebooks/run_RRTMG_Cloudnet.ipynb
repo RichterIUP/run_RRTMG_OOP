{
 "cells": [
  {
   "cell_type": "code",
   "execution_count": 1,
   "metadata": {},
   "outputs": [],
   "source": [
    "import sys\n",
    "import os\n",
    "sys.path.append(\"/home/phi.richter/SOFTWARE_PHD/run_RRTMG_OOP\")\n",
    "import rrtmg as FLUXES\n",
    "import numpy as np"
   ]
  },
  {
   "cell_type": "code",
   "execution_count": 2,
   "metadata": {},
   "outputs": [],
   "source": [
    "## Profiles\n",
    "z = np.loadtxt(\"/home/phi.richter/SOFTWARE_PHD/Total_Cloud_Water_retrieval/retrieval/trace_gases/z.csv\", delimiter=\",\")\n",
    "co2 = np.loadtxt(\"/home/phi.richter/SOFTWARE_PHD/Total_Cloud_Water_retrieval/retrieval/trace_gases/co2.csv\", delimiter=\",\")\n",
    "o3 = np.loadtxt(\"/home/phi.richter/SOFTWARE_PHD/Total_Cloud_Water_retrieval/retrieval/trace_gases/o3.csv\", delimiter=\",\")\n",
    "ch4 = np.loadtxt(\"/home/phi.richter/SOFTWARE_PHD/Total_Cloud_Water_retrieval/retrieval/trace_gases/ch4.csv\", delimiter=\",\")\n",
    "n2o = np.loadtxt(\"/home/phi.richter/SOFTWARE_PHD/Total_Cloud_Water_retrieval/retrieval/trace_gases/n2o.csv\", delimiter=\",\")"
   ]
  },
  {
   "cell_type": "code",
   "execution_count": 3,
   "metadata": {},
   "outputs": [
    {
     "name": "stdout",
     "output_type": "stream",
     "text": [
      "12 81\n"
     ]
    },
    {
     "name": "stderr",
     "output_type": "stream",
     "text": [
      "/home/conda/envs/testing/lib/python3.7/site-packages/ipykernel_launcher.py:3: DeprecationWarning: `np.bool` is a deprecated alias for the builtin `bool`. To silence this warning, use `bool` by itself. Doing this will not modify any behavior and is safe. If you specifically wanted the numpy scalar type, use `np.bool_` here.\n",
      "Deprecated in NumPy 1.20; for more details and guidance: https://numpy.org/devdocs/release/1.20.0-notes.html#deprecations\n",
      "  This is separate from the ipykernel package so we can avoid doing imports until\n",
      "/home/conda/envs/testing/lib/python3.7/site-packages/ipykernel_launcher.py:4: DeprecationWarning: `np.bool` is a deprecated alias for the builtin `bool`. To silence this warning, use `bool` by itself. Doing this will not modify any behavior and is safe. If you specifically wanted the numpy scalar type, use `np.bool_` here.\n",
      "Deprecated in NumPy 1.20; for more details and guidance: https://numpy.org/devdocs/release/1.20.0-notes.html#deprecations\n",
      "  after removing the cwd from sys.path.\n",
      "/home/conda/envs/testing/lib/python3.7/site-packages/ipykernel_launcher.py:5: DeprecationWarning: `np.bool` is a deprecated alias for the builtin `bool`. To silence this warning, use `bool` by itself. Doing this will not modify any behavior and is safe. If you specifically wanted the numpy scalar type, use `np.bool_` here.\n",
      "Deprecated in NumPy 1.20; for more details and guidance: https://numpy.org/devdocs/release/1.20.0-notes.html#deprecations\n",
      "  \"\"\"\n",
      "/home/conda/envs/testing/lib/python3.7/site-packages/ipykernel_launcher.py:6: DeprecationWarning: `np.bool` is a deprecated alias for the builtin `bool`. To silence this warning, use `bool` by itself. Doing this will not modify any behavior and is safe. If you specifically wanted the numpy scalar type, use `np.bool_` here.\n",
      "Deprecated in NumPy 1.20; for more details and guidance: https://numpy.org/devdocs/release/1.20.0-notes.html#deprecations\n",
      "  \n"
     ]
    }
   ],
   "source": [
    "import netCDF4 as nc\n",
    "with nc.Dataset(\"/mnt/beegfs/user/phi.richter/REMOVE/ERA5/ozone.nc\", \"r\") as f:\n",
    "    o3 = f.variables['o3'][:]\n",
    "    z_era5 = f.variables['z'][:]/9.80665*1e-3\n",
    "    lat = np.argmin(np.abs(np.array(f.variables['latitude'][:])-81.95))\n",
    "    lon = np.argmin(np.abs(np.array(f.variables['longitude'][:])-10.33))\n",
    "print(lat, lon)"
   ]
  },
  {
   "cell_type": "code",
   "execution_count": 4,
   "metadata": {},
   "outputs": [],
   "source": [
    "import scipy.interpolate\n",
    "o3_f = scipy.interpolate.interp1d(np.array(z_era5[0,:,12,81]), np.array(o3[0,:,12,81]), fill_value=\"extrapolate\")\n",
    "o3 = o3_f(np.array(z))"
   ]
  },
  {
   "cell_type": "code",
   "execution_count": 5,
   "metadata": {},
   "outputs": [
    {
     "data": {
      "text/plain": [
       "array([1.50331316e-08, 1.48546813e-08, 1.46847285e-08, 1.44722876e-08,\n",
       "       1.42598467e-08, 1.40474059e-08, 1.38349650e-08, 1.36225241e-08,\n",
       "       1.35800359e-08, 1.36330443e-08, 1.65466633e-08, 1.94602823e-08,\n",
       "       2.23739013e-08, 3.69419963e-08, 5.15100913e-08, 5.73373293e-08,\n",
       "       7.19054243e-08, 7.50226894e-08, 7.89712375e-08, 8.13403664e-08,\n",
       "       8.17220283e-08, 8.17604282e-08, 8.18065082e-08, 8.25502069e-08,\n",
       "       8.37538766e-08, 8.57322934e-08, 8.79473406e-08, 8.90635058e-08,\n",
       "       8.89272266e-08, 8.79789800e-08, 8.69303568e-08, 8.68897517e-08,\n",
       "       8.72658883e-08, 8.76497175e-08, 9.10108799e-08, 9.78669211e-08,\n",
       "       1.02281495e-07, 1.06696070e-07, 1.10969413e-07, 1.12769660e-07,\n",
       "       1.15470030e-07, 1.18689596e-07, 1.22418377e-07, 1.26397435e-07,\n",
       "       1.31912645e-07, 1.37427855e-07, 1.43606820e-07, 1.50250504e-07,\n",
       "       1.56894187e-07, 1.62106486e-07, 1.66974538e-07, 1.71842589e-07,\n",
       "       1.95659367e-07, 2.23657104e-07, 2.73704593e-07, 3.96924905e-07,\n",
       "       5.20145217e-07, 6.69832323e-07, 8.06494162e-07, 8.48065557e-07,\n",
       "       9.15731213e-07, 1.00555314e-06, 1.07752080e-06, 1.21584708e-06,\n",
       "       1.41324159e-06, 2.99113980e-06, 4.11086704e-06, 5.59229668e-06,\n",
       "       7.36464422e-06])"
      ]
     },
     "execution_count": 5,
     "metadata": {},
     "output_type": "execute_result"
    }
   ],
   "source": [
    "o3"
   ]
  },
  {
   "cell_type": "code",
   "execution_count": 6,
   "metadata": {},
   "outputs": [
    {
     "name": "stderr",
     "output_type": "stream",
     "text": [
      "/home/conda/envs/testing/lib/python3.7/site-packages/ipykernel_launcher.py:4: DeprecationWarning: `np.bool` is a deprecated alias for the builtin `bool`. To silence this warning, use `bool` by itself. Doing this will not modify any behavior and is safe. If you specifically wanted the numpy scalar type, use `np.bool_` here.\n",
      "Deprecated in NumPy 1.20; for more details and guidance: https://numpy.org/devdocs/release/1.20.0-notes.html#deprecations\n",
      "  after removing the cwd from sys.path.\n",
      "/home/conda/envs/testing/lib/python3.7/site-packages/ipykernel_launcher.py:5: DeprecationWarning: `np.bool` is a deprecated alias for the builtin `bool`. To silence this warning, use `bool` by itself. Doing this will not modify any behavior and is safe. If you specifically wanted the numpy scalar type, use `np.bool_` here.\n",
      "Deprecated in NumPy 1.20; for more details and guidance: https://numpy.org/devdocs/release/1.20.0-notes.html#deprecations\n",
      "  \"\"\"\n",
      "/home/conda/envs/testing/lib/python3.7/site-packages/ipykernel_launcher.py:6: DeprecationWarning: `np.bool` is a deprecated alias for the builtin `bool`. To silence this warning, use `bool` by itself. Doing this will not modify any behavior and is safe. If you specifically wanted the numpy scalar type, use `np.bool_` here.\n",
      "Deprecated in NumPy 1.20; for more details and guidance: https://numpy.org/devdocs/release/1.20.0-notes.html#deprecations\n",
      "  \n",
      "/home/conda/envs/testing/lib/python3.7/site-packages/ipykernel_launcher.py:7: DeprecationWarning: `np.bool` is a deprecated alias for the builtin `bool`. To silence this warning, use `bool` by itself. Doing this will not modify any behavior and is safe. If you specifically wanted the numpy scalar type, use `np.bool_` here.\n",
      "Deprecated in NumPy 1.20; for more details and guidance: https://numpy.org/devdocs/release/1.20.0-notes.html#deprecations\n",
      "  import sys\n"
     ]
    }
   ],
   "source": [
    "import datetime as dt\n",
    "def open_era5(fname, key):\n",
    "    with nc.Dataset(fname) as f:\n",
    "        time = f.variables['time'][:]\n",
    "        latitude = f.variables['latitude'][:]\n",
    "        longitude = f.variables['longitude'][:]\n",
    "        cc = f.variables[key][:]\n",
    "    return [time, latitude, longitude, cc]\n",
    "\n",
    "def interpolate_era5_single(data, lat, lon, tim):\n",
    "    '''\n",
    "    Find nearest value of given key in ERA5 single level file\n",
    "    '''\n",
    "    tim = (tim - dt.datetime(1900, 1, 1)).total_seconds()/3600\n",
    "    time = data[0]\n",
    "    latitude = data[1]\n",
    "    longitude = data[2]\n",
    "    value = data[3]\n",
    "    lat_min = np.abs(latitude - lat)\n",
    "    lon_min = np.abs(longitude - lon)\n",
    "    time_min = np.abs(time - tim)\n",
    "    argmin_lat = np.argmin(lat_min)\n",
    "    argmin_lon = np.argmin(lon_min)\n",
    "    argmin_time = np.argmin(time_min)\n",
    "    ret_val = value[argmin_time, argmin_lat, argmin_lon]\n",
    "    return ret_val\n",
    "\n",
    "PATH_RADIATION = \"/home/phi.richter/ERA5_radiation.nc\"\n",
    "\n",
    "era5_msdwswrfcs = open_era5(PATH_RADIATION, 'msdwswrfcs')\n",
    "era5_msnswrfcs  = open_era5(PATH_RADIATION, 'msnswrfcs')"
   ]
  },
  {
   "cell_type": "code",
   "execution_count": 7,
   "metadata": {},
   "outputs": [],
   "source": [
    "path_retrievals = \"/mnt/beegfs/user/phi.richter/DATA_PHD/RRTMG/INPUT/INPUT_FOR_RRTMG/RRTMG_input_nomod\"\n",
    "ssp_ice = \"./\"\n",
    "ssp_wat = \"./\"\n",
    "files = sorted(os.listdir(path_retrievals))"
   ]
  },
  {
   "cell_type": "code",
   "execution_count": 8,
   "metadata": {},
   "outputs": [],
   "source": [
    "path_rrtmg = \"/home/phi.richter/SOFTWARE_PHD/run_RRTMG_OOP\"\n",
    "model = FLUXES.RRTMG(path_rrtmg+\"/rrtmg_lw_v5.00_linux_pgi\", path_rrtmg+\"/rrtmg_sw_v5.00_linux_pgi\", \\\n",
    "                  [ssp_wat, ssp_ice])"
   ]
  },
  {
   "cell_type": "code",
   "execution_count": 9,
   "metadata": {},
   "outputs": [
    {
     "name": "stdout",
     "output_type": "stream",
     "text": [
      "in_CNET_20170606_204444_81.950648_10.539039_73.62477298934044.nc\n"
     ]
    },
    {
     "data": {
      "image/png": "[encoded data removed]",
      "text/plain": [
       "<Figure size 720x360 with 2 Axes>"
      ]
     },
     "metadata": {
      "needs_background": "light"
     },
     "output_type": "display_data"
    },
    {
     "name": "stdout",
     "output_type": "stream",
     "text": [
      "{'LWP(gm-2)': array([0.      , 4.983024]), 'IWP(gm-2)': array([0.78935552, 0.90700806]), 'rliq(um)': array([ 5.        , 11.74656987]), 'rice(um)': array([48.08694839, 47.57210986]), 'clt': array([1., 1.]), 'red_chi_2': array(None, dtype=object)}\n",
      "{'Latitude': masked_array(data=81.950648,\n",
      "             mask=False,\n",
      "       fill_value=1e+20), 'Longitude': masked_array(data=10.539039,\n",
      "             mask=False,\n",
      "       fill_value=1e+20), 'SZA': masked_array(data=73.62477299,\n",
      "             mask=False,\n",
      "       fill_value=1e+20), 'Time': datetime.datetime(2017, 6, 6, 20, 44, 44)}\n"
     ]
    }
   ],
   "source": [
    "epsilon = 0.99*np.ones(16)\n",
    "epsilon[np.array([5,6,7])] = 0.98\n",
    "spec = files[10000]\n",
    "print(spec)\n",
    "#atm_file = \"/mnt/beegfs/user/phi.richter/ERA5_atm_interpolated/ERA5\"+spec.split(\"in_CNET\")[1].split(\".nc\")[0]+\".csv\"\n",
    "model.read_cloudnet(os.path.join(path_retrievals, spec))#, pattern_fname=\"ERA5_%Y%m%d_%H%M%S.nc\")\n",
    "model.plot_atmosphere()\n",
    "print(model.get_cparam())\n",
    "atm = model.get_atmosphere()\n",
    "model.scale('cwp', 10)\n",
    "model.scale('lwp', 10)\n",
    "model.scale('iwp', 10)\n",
    "print(model.get_position())\n",
    "#model.replace_atmosphere(atm_file)\n",
    "#model.plot_atmosphere()"
   ]
  },
  {
   "cell_type": "code",
   "execution_count": 10,
   "metadata": {},
   "outputs": [],
   "source": [
    "lat = float(model.get_position()['Latitude'])\n",
    "lon = float(model.get_position()['Longitude'])\n",
    "tim = model.get_position()['Time']"
   ]
  },
  {
   "cell_type": "code",
   "execution_count": 11,
   "metadata": {},
   "outputs": [
    {
     "data": {
      "text/plain": [
       "0.7294713847124832"
      ]
     },
     "execution_count": 11,
     "metadata": {},
     "output_type": "execute_result"
    }
   ],
   "source": [
    "model.get_cloud()['albedo']"
   ]
  },
  {
   "cell_type": "code",
   "execution_count": 12,
   "metadata": {},
   "outputs": [],
   "source": [
    "msdwswrfcs = interpolate_era5_single(era5_msdwswrfcs, lat, lon, tim)\n",
    "msnswrfcs = interpolate_era5_single(era5_msnswrfcs, lat, lon, tim)"
   ]
  },
  {
   "cell_type": "code",
   "execution_count": 13,
   "metadata": {},
   "outputs": [],
   "source": [
    "alb_clear = 1 - msnswrfcs/msdwswrfcs"
   ]
  },
  {
   "cell_type": "code",
   "execution_count": 14,
   "metadata": {},
   "outputs": [],
   "source": [
    "o3_ppmv = 0.*np.ones(z.size)#np.ones(z.size)#28.9644 / 47.9982 * 1e6 * o3\n",
    "co2 = np.zeros(z.size)\n",
    "n2o = np.zeros(z.size)\n",
    "ch4 = np.zeros(z.size)\n",
    "tg = model.read_trace_gases(z, co2, n2o, ch4, o3_ppmv)\n",
    "#model.plot_atmosphere()"
   ]
  },
  {
   "cell_type": "code",
   "execution_count": 17,
   "metadata": {},
   "outputs": [],
   "source": [
    "epsilon = 0.99*np.ones(16)\n",
    "atm = \"H444444\"#\"HAAA4A4\"\n",
    "epsilon[np.array([7,8,9,10])] = 0.98\n",
    "model.temp_half_levels()\n",
    "in_cld_rrtm = model.create_inputfile_cloud()\n",
    "input_rrtm = model.create_inputfile_atm_terrestrial(cloud=0, semiss=epsilon, atm=atm)\n",
    "model.run_RRTMG_terrestrial(clouds=False)\n",
    "input_rrtm = model.create_inputfile_atm_terrestrial(cloud=2, semiss=epsilon, atm=atm)\n",
    "model.run_RRTMG_terrestrial(clouds=True)\n",
    "input_rrtm = model.create_inputfile_atm_solar(cloud=0, atm=atm, aerosols=0, albedo=[alb_clear], use_albedo_par=False)\n",
    "#input_aer = model.create_inputfile_aerosols_solar(level=[1], aot=[0.05], num_aer=1, iaod=0, issa=0, ipha=0, aerpar=[0.13, 1.0, 0.0], ssa=[0.780], phase=[0.7])\n",
    "model.run_RRTMG_solar(clouds=False)\n",
    "input_rrtm = model.create_inputfile_atm_solar(cloud=2, atm=atm, aerosols=0)\n",
    "model.run_RRTMG_solar(clouds=True)"
   ]
  },
  {
   "cell_type": "code",
   "execution_count": 18,
   "metadata": {},
   "outputs": [
    {
     "data": {
      "text/html": [
       "<div>\n",
       "<style scoped>\n",
       "    .dataframe tbody tr th:only-of-type {\n",
       "        vertical-align: middle;\n",
       "    }\n",
       "\n",
       "    .dataframe tbody tr th {\n",
       "        vertical-align: top;\n",
       "    }\n",
       "\n",
       "    .dataframe thead th {\n",
       "        text-align: right;\n",
       "    }\n",
       "</style>\n",
       "<table border=\"1\" class=\"dataframe\">\n",
       "  <thead>\n",
       "    <tr style=\"text-align: right;\">\n",
       "      <th></th>\n",
       "      <th>LEVEL</th>\n",
       "      <th>PRESSURE</th>\n",
       "      <th>UPWARD FLUX</th>\n",
       "      <th>DIFDOWN FLUX</th>\n",
       "      <th>DIRDOWN FLUX</th>\n",
       "      <th>DOWNWARD FLUX</th>\n",
       "      <th>NET FLUX</th>\n",
       "      <th>HEATING RATE</th>\n",
       "    </tr>\n",
       "  </thead>\n",
       "  <tbody>\n",
       "    <tr>\n",
       "      <th>0</th>\n",
       "      <td>73.0</td>\n",
       "      <td>1.0</td>\n",
       "      <td>215.5967</td>\n",
       "      <td>0.0000</td>\n",
       "      <td>374.8811</td>\n",
       "      <td>374.8811</td>\n",
       "      <td>159.284373</td>\n",
       "      <td>0.00000</td>\n",
       "    </tr>\n",
       "    <tr>\n",
       "      <th>1</th>\n",
       "      <td>72.0</td>\n",
       "      <td>2.0</td>\n",
       "      <td>215.5786</td>\n",
       "      <td>0.0916</td>\n",
       "      <td>372.1159</td>\n",
       "      <td>372.2075</td>\n",
       "      <td>156.628907</td>\n",
       "      <td>22.40986</td>\n",
       "    </tr>\n",
       "    <tr>\n",
       "      <th>2</th>\n",
       "      <td>71.0</td>\n",
       "      <td>3.0</td>\n",
       "      <td>215.5837</td>\n",
       "      <td>0.1744</td>\n",
       "      <td>370.6779</td>\n",
       "      <td>370.8522</td>\n",
       "      <td>155.268571</td>\n",
       "      <td>11.48007</td>\n",
       "    </tr>\n",
       "    <tr>\n",
       "      <th>3</th>\n",
       "      <td>70.0</td>\n",
       "      <td>5.0</td>\n",
       "      <td>215.6272</td>\n",
       "      <td>0.3335</td>\n",
       "      <td>368.8680</td>\n",
       "      <td>369.2015</td>\n",
       "      <td>153.574260</td>\n",
       "      <td>7.14927</td>\n",
       "    </tr>\n",
       "    <tr>\n",
       "      <th>4</th>\n",
       "      <td>69.0</td>\n",
       "      <td>7.0</td>\n",
       "      <td>215.6803</td>\n",
       "      <td>0.4889</td>\n",
       "      <td>367.5803</td>\n",
       "      <td>368.0692</td>\n",
       "      <td>152.388851</td>\n",
       "      <td>5.00192</td>\n",
       "    </tr>\n",
       "    <tr>\n",
       "      <th>...</th>\n",
       "      <td>...</td>\n",
       "      <td>...</td>\n",
       "      <td>...</td>\n",
       "      <td>...</td>\n",
       "      <td>...</td>\n",
       "      <td>...</td>\n",
       "      <td>...</td>\n",
       "      <td>...</td>\n",
       "    </tr>\n",
       "    <tr>\n",
       "      <th>69</th>\n",
       "      <td>4.0</td>\n",
       "      <td>923.6</td>\n",
       "      <td>197.4091</td>\n",
       "      <td>44.5027</td>\n",
       "      <td>236.5547</td>\n",
       "      <td>281.0574</td>\n",
       "      <td>83.648330</td>\n",
       "      <td>0.51879</td>\n",
       "    </tr>\n",
       "    <tr>\n",
       "      <th>70</th>\n",
       "      <td>3.0</td>\n",
       "      <td>953.1</td>\n",
       "      <td>197.3753</td>\n",
       "      <td>45.3523</td>\n",
       "      <td>233.0410</td>\n",
       "      <td>278.3932</td>\n",
       "      <td>81.017952</td>\n",
       "      <td>0.75248</td>\n",
       "    </tr>\n",
       "    <tr>\n",
       "      <th>71</th>\n",
       "      <td>2.0</td>\n",
       "      <td>983.7</td>\n",
       "      <td>197.5975</td>\n",
       "      <td>46.2043</td>\n",
       "      <td>228.9511</td>\n",
       "      <td>275.1554</td>\n",
       "      <td>77.557895</td>\n",
       "      <td>0.95425</td>\n",
       "    </tr>\n",
       "    <tr>\n",
       "      <th>72</th>\n",
       "      <td>1.0</td>\n",
       "      <td>1001.0</td>\n",
       "      <td>197.7261</td>\n",
       "      <td>46.6870</td>\n",
       "      <td>226.8279</td>\n",
       "      <td>273.5148</td>\n",
       "      <td>75.788758</td>\n",
       "      <td>0.86301</td>\n",
       "    </tr>\n",
       "    <tr>\n",
       "      <th>73</th>\n",
       "      <td>0.0</td>\n",
       "      <td>1022.0</td>\n",
       "      <td>197.9438</td>\n",
       "      <td>47.2711</td>\n",
       "      <td>224.2568</td>\n",
       "      <td>271.5279</td>\n",
       "      <td>73.584053</td>\n",
       "      <td>0.88599</td>\n",
       "    </tr>\n",
       "  </tbody>\n",
       "</table>\n",
       "<p>74 rows × 8 columns</p>\n",
       "</div>"
      ],
      "text/plain": [
       "    LEVEL  PRESSURE  UPWARD FLUX  DIFDOWN FLUX  DIRDOWN FLUX  DOWNWARD FLUX  \\\n",
       "0    73.0       1.0     215.5967        0.0000      374.8811       374.8811   \n",
       "1    72.0       2.0     215.5786        0.0916      372.1159       372.2075   \n",
       "2    71.0       3.0     215.5837        0.1744      370.6779       370.8522   \n",
       "3    70.0       5.0     215.6272        0.3335      368.8680       369.2015   \n",
       "4    69.0       7.0     215.6803        0.4889      367.5803       368.0692   \n",
       "..    ...       ...          ...           ...           ...            ...   \n",
       "69    4.0     923.6     197.4091       44.5027      236.5547       281.0574   \n",
       "70    3.0     953.1     197.3753       45.3523      233.0410       278.3932   \n",
       "71    2.0     983.7     197.5975       46.2043      228.9511       275.1554   \n",
       "72    1.0    1001.0     197.7261       46.6870      226.8279       273.5148   \n",
       "73    0.0    1022.0     197.9438       47.2711      224.2568       271.5279   \n",
       "\n",
       "      NET FLUX  HEATING RATE  \n",
       "0   159.284373       0.00000  \n",
       "1   156.628907      22.40986  \n",
       "2   155.268571      11.48007  \n",
       "3   153.574260       7.14927  \n",
       "4   152.388851       5.00192  \n",
       "..         ...           ...  \n",
       "69   83.648330       0.51879  \n",
       "70   81.017952       0.75248  \n",
       "71   77.557895       0.95425  \n",
       "72   75.788758       0.86301  \n",
       "73   73.584053       0.88599  \n",
       "\n",
       "[74 rows x 8 columns]"
      ]
     },
     "execution_count": 18,
     "metadata": {},
     "output_type": "execute_result"
    }
   ],
   "source": [
    "model.get_fluxes_solar(30)['clear']"
   ]
  }
 ],
 "metadata": {
  "kernelspec": {
   "display_name": "testing (py3.7.8)",
   "language": "python",
   "name": "testing"
  },
  "language_info": {
   "codemirror_mode": {
    "name": "ipython",
    "version": 3
   },
   "file_extension": ".py",
   "mimetype": "text/x-python",
   "name": "python",
   "nbconvert_exporter": "python",
   "pygments_lexer": "ipython3",
   "version": "3.7.8"
  }
 },
 "nbformat": 4,
 "nbformat_minor": 4
}
