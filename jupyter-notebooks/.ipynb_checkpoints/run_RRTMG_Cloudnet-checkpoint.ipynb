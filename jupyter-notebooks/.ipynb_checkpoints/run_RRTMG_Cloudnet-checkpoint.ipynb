{
 "cells": [
  {
   "cell_type": "code",
   "execution_count": 11,
   "metadata": {},
   "outputs": [],
   "source": [
    "import sys\n",
    "import os\n",
    "sys.path.append(\"/home/phi.richter/SOFTWARE_PHD/run_RRTMG_OOP\")\n",
    "import rrtmg as FLUXES\n",
    "import numpy as np"
   ]
  },
  {
   "cell_type": "code",
   "execution_count": 12,
   "metadata": {},
   "outputs": [],
   "source": [
    "## Profiles\n",
    "z = np.loadtxt(\"/home/phi.richter/SOFTWARE_PHD/Total_Cloud_Water_retrieval/retrieval/trace_gases/z.csv\", delimiter=\",\")\n",
    "co2 = np.loadtxt(\"/home/phi.richter/SOFTWARE_PHD/Total_Cloud_Water_retrieval/retrieval/trace_gases/co2.csv\", delimiter=\",\")\n",
    "o3 = np.loadtxt(\"/home/phi.richter/SOFTWARE_PHD/Total_Cloud_Water_retrieval/retrieval/trace_gases/o3.csv\", delimiter=\",\")\n",
    "ch4 = np.loadtxt(\"/home/phi.richter/SOFTWARE_PHD/Total_Cloud_Water_retrieval/retrieval/trace_gases/ch4.csv\", delimiter=\",\")\n",
    "n2o = np.loadtxt(\"/home/phi.richter/SOFTWARE_PHD/Total_Cloud_Water_retrieval/retrieval/trace_gases/n2o.csv\", delimiter=\",\")"
   ]
  },
  {
   "cell_type": "code",
   "execution_count": 13,
   "metadata": {},
   "outputs": [
    {
     "name": "stdout",
     "output_type": "stream",
     "text": [
      "12 81\n"
     ]
    }
   ],
   "source": [
    "import netCDF4 as nc\n",
    "with nc.Dataset(\"/mnt/beegfs/user/phi.richter/REMOVE/ERA5/ozone.nc\", \"r\") as f:\n",
    "    o3 = f.variables['o3'][:]\n",
    "    z_era5 = f.variables['z'][:]/9.80665*1e-3\n",
    "    lat = np.argmin(np.abs(np.array(f.variables['latitude'][:])-81.95))\n",
    "    lon = np.argmin(np.abs(np.array(f.variables['longitude'][:])-10.33))\n",
    "print(lat, lon)"
   ]
  },
  {
   "cell_type": "code",
   "execution_count": 14,
   "metadata": {},
   "outputs": [],
   "source": [
    "import scipy.interpolate\n",
    "o3_f = scipy.interpolate.interp1d(np.array(z_era5[0,:,12,81]), np.array(o3[0,:,12,81]), fill_value=\"extrapolate\")\n",
    "o3 = o3_f(np.array(z))"
   ]
  },
  {
   "cell_type": "code",
   "execution_count": 15,
   "metadata": {},
   "outputs": [
    {
     "data": {
      "text/plain": [
       "array([1.50331316e-08, 1.48546813e-08, 1.46847285e-08, 1.44722876e-08,\n",
       "       1.42598467e-08, 1.40474059e-08, 1.38349650e-08, 1.36225241e-08,\n",
       "       1.35800359e-08, 1.36330443e-08, 1.65466633e-08, 1.94602823e-08,\n",
       "       2.23739013e-08, 3.69419963e-08, 5.15100913e-08, 5.73373293e-08,\n",
       "       7.19054243e-08, 7.50226894e-08, 7.89712375e-08, 8.13403664e-08,\n",
       "       8.17220283e-08, 8.17604282e-08, 8.18065082e-08, 8.25502069e-08,\n",
       "       8.37538766e-08, 8.57322934e-08, 8.79473406e-08, 8.90635058e-08,\n",
       "       8.89272266e-08, 8.79789800e-08, 8.69303568e-08, 8.68897517e-08,\n",
       "       8.72658883e-08, 8.76497175e-08, 9.10108799e-08, 9.78669211e-08,\n",
       "       1.02281495e-07, 1.06696070e-07, 1.10969413e-07, 1.12769660e-07,\n",
       "       1.15470030e-07, 1.18689596e-07, 1.22418377e-07, 1.26397435e-07,\n",
       "       1.31912645e-07, 1.37427855e-07, 1.43606820e-07, 1.50250504e-07,\n",
       "       1.56894187e-07, 1.62106486e-07, 1.66974538e-07, 1.71842589e-07,\n",
       "       1.95659367e-07, 2.23657104e-07, 2.73704593e-07, 3.96924905e-07,\n",
       "       5.20145217e-07, 6.69832323e-07, 8.06494162e-07, 8.48065557e-07,\n",
       "       9.15731213e-07, 1.00555314e-06, 1.07752080e-06, 1.21584708e-06,\n",
       "       1.41324159e-06, 2.99113980e-06, 4.11086704e-06, 5.59229668e-06,\n",
       "       7.36464422e-06])"
      ]
     },
     "execution_count": 15,
     "metadata": {},
     "output_type": "execute_result"
    }
   ],
   "source": [
    "o3"
   ]
  },
  {
   "cell_type": "code",
   "execution_count": 16,
   "metadata": {},
   "outputs": [],
   "source": [
    "path_retrievals = \"/mnt/beegfs/user/phi.richter/DATA_PHD/RRTMG/INPUT/INPUT_FOR_RRTMG/RRTMG_ERA5_input_nomod_virtual_temperature_correct_clt_in_cld\"#\"/mnt/beegfs/user/phi.richter/DATA_PHD/RRTMG/INPUT/INPUT_FOR_RRTMG/RRTMG_input_nomod\"\n",
    "ssp_ice = \"./\"\n",
    "ssp_wat = \"./\"\n",
    "files = sorted(os.listdir(path_retrievals))"
   ]
  },
  {
   "cell_type": "code",
   "execution_count": 17,
   "metadata": {},
   "outputs": [],
   "source": [
    "path_rrtmg = \"/home/phi.richter/SOFTWARE_PHD/run_RRTMG_OOP\"\n",
    "model = FLUXES.RRTMG(path_rrtmg+\"/rrtmg_lw_v5.00_linux_pgi\", path_rrtmg+\"/rrtmg_sw_v5.00_linux_pgi\", \\\n",
    "                  [ssp_wat, ssp_ice])"
   ]
  },
  {
   "cell_type": "code",
   "execution_count": 20,
   "metadata": {},
   "outputs": [
    {
     "name": "stdout",
     "output_type": "stream",
     "text": [
      "ERA5_20170601_010000.nc\n"
     ]
    },
    {
     "ename": "ValueError",
     "evalue": "time data 'ERA5_20170601_010000.nc' does not match format 'in_CNET_%Y%m%d_%H%M%S'",
     "output_type": "error",
     "traceback": [
      "\u001b[0;31m---------------------------------------------------------------------------\u001b[0m",
      "\u001b[0;31mValueError\u001b[0m                                Traceback (most recent call last)",
      "\u001b[0;32m<ipython-input-20-a54143f47e87>\u001b[0m in \u001b[0;36m<module>\u001b[0;34m\u001b[0m\n\u001b[1;32m      4\u001b[0m \u001b[0mprint\u001b[0m\u001b[0;34m(\u001b[0m\u001b[0mspec\u001b[0m\u001b[0;34m)\u001b[0m\u001b[0;34m\u001b[0m\u001b[0;34m\u001b[0m\u001b[0m\n\u001b[1;32m      5\u001b[0m \u001b[0;31m#atm_file = \"/mnt/beegfs/user/phi.richter/ERA5_atm_interpolated/ERA5\"+spec.split(\"in_CNET\")[1].split(\".nc\")[0]+\".csv\"\u001b[0m\u001b[0;34m\u001b[0m\u001b[0;34m\u001b[0m\u001b[0;34m\u001b[0m\u001b[0m\n\u001b[0;32m----> 6\u001b[0;31m \u001b[0mmodel\u001b[0m\u001b[0;34m.\u001b[0m\u001b[0mread_cloudnet\u001b[0m\u001b[0;34m(\u001b[0m\u001b[0mos\u001b[0m\u001b[0;34m.\u001b[0m\u001b[0mpath\u001b[0m\u001b[0;34m.\u001b[0m\u001b[0mjoin\u001b[0m\u001b[0;34m(\u001b[0m\u001b[0mpath_retrievals\u001b[0m\u001b[0;34m,\u001b[0m \u001b[0mspec\u001b[0m\u001b[0;34m)\u001b[0m\u001b[0;34m)\u001b[0m\u001b[0;34m\u001b[0m\u001b[0;34m\u001b[0m\u001b[0m\n\u001b[0m\u001b[1;32m      7\u001b[0m \u001b[0;31m#model.plot_atmosphere()\u001b[0m\u001b[0;34m\u001b[0m\u001b[0;34m\u001b[0m\u001b[0;34m\u001b[0m\u001b[0m\n\u001b[1;32m      8\u001b[0m \u001b[0;31m#model.replace_atmosphere(atm_file)\u001b[0m\u001b[0;34m\u001b[0m\u001b[0;34m\u001b[0m\u001b[0;34m\u001b[0m\u001b[0m\n",
      "\u001b[0;32m~/SOFTWARE_PHD/run_RRTMG_OOP/rrtmg.py\u001b[0m in \u001b[0;36mread_cloudnet\u001b[0;34m(self, fname)\u001b[0m\n\u001b[1;32m    149\u001b[0m     \u001b[0;32mdef\u001b[0m \u001b[0mread_cloudnet\u001b[0m\u001b[0;34m(\u001b[0m\u001b[0mself\u001b[0m\u001b[0;34m,\u001b[0m \u001b[0mfname\u001b[0m\u001b[0;34m)\u001b[0m\u001b[0;34m:\u001b[0m\u001b[0;34m\u001b[0m\u001b[0;34m\u001b[0m\u001b[0m\n\u001b[1;32m    150\u001b[0m         \u001b[0mpattern\u001b[0m \u001b[0;34m=\u001b[0m \u001b[0mfname\u001b[0m\u001b[0;34m.\u001b[0m\u001b[0msplit\u001b[0m\u001b[0;34m(\u001b[0m\u001b[0;34m\"/\"\u001b[0m\u001b[0;34m)\u001b[0m\u001b[0;34m[\u001b[0m\u001b[0;34m-\u001b[0m\u001b[0;36m1\u001b[0m\u001b[0;34m]\u001b[0m\u001b[0;34m[\u001b[0m\u001b[0;34m:\u001b[0m\u001b[0;36m23\u001b[0m\u001b[0;34m]\u001b[0m\u001b[0;34m\u001b[0m\u001b[0;34m\u001b[0m\u001b[0m\n\u001b[0;32m--> 151\u001b[0;31m         \u001b[0mself\u001b[0m\u001b[0;34m.\u001b[0m\u001b[0m__cloud\u001b[0m\u001b[0;34m[\u001b[0m\u001b[0;34m'date'\u001b[0m\u001b[0;34m]\u001b[0m \u001b[0;34m=\u001b[0m \u001b[0mdt\u001b[0m\u001b[0;34m.\u001b[0m\u001b[0mdatetime\u001b[0m\u001b[0;34m.\u001b[0m\u001b[0mstrptime\u001b[0m\u001b[0;34m(\u001b[0m\u001b[0mpattern\u001b[0m\u001b[0;34m,\u001b[0m \u001b[0;34m\"in_CNET_%Y%m%d_%H%M%S\"\u001b[0m\u001b[0;34m)\u001b[0m\u001b[0;34m\u001b[0m\u001b[0;34m\u001b[0m\u001b[0m\n\u001b[0m\u001b[1;32m    152\u001b[0m \u001b[0;34m\u001b[0m\u001b[0m\n\u001b[1;32m    153\u001b[0m         \u001b[0;32mwith\u001b[0m \u001b[0mnc\u001b[0m\u001b[0;34m.\u001b[0m\u001b[0mDataset\u001b[0m\u001b[0;34m(\u001b[0m\u001b[0mfname\u001b[0m\u001b[0;34m,\u001b[0m \u001b[0;34m\"r\"\u001b[0m\u001b[0;34m)\u001b[0m \u001b[0;32mas\u001b[0m \u001b[0mf\u001b[0m\u001b[0;34m:\u001b[0m\u001b[0;34m\u001b[0m\u001b[0;34m\u001b[0m\u001b[0m\n",
      "\u001b[0;32m/home/conda/envs/lamos_2020.3/lib/python3.7/_strptime.py\u001b[0m in \u001b[0;36m_strptime_datetime\u001b[0;34m(cls, data_string, format)\u001b[0m\n\u001b[1;32m    575\u001b[0m     \"\"\"Return a class cls instance based on the input string and the\n\u001b[1;32m    576\u001b[0m     format string.\"\"\"\n\u001b[0;32m--> 577\u001b[0;31m     \u001b[0mtt\u001b[0m\u001b[0;34m,\u001b[0m \u001b[0mfraction\u001b[0m\u001b[0;34m,\u001b[0m \u001b[0mgmtoff_fraction\u001b[0m \u001b[0;34m=\u001b[0m \u001b[0m_strptime\u001b[0m\u001b[0;34m(\u001b[0m\u001b[0mdata_string\u001b[0m\u001b[0;34m,\u001b[0m \u001b[0mformat\u001b[0m\u001b[0;34m)\u001b[0m\u001b[0;34m\u001b[0m\u001b[0;34m\u001b[0m\u001b[0m\n\u001b[0m\u001b[1;32m    578\u001b[0m     \u001b[0mtzname\u001b[0m\u001b[0;34m,\u001b[0m \u001b[0mgmtoff\u001b[0m \u001b[0;34m=\u001b[0m \u001b[0mtt\u001b[0m\u001b[0;34m[\u001b[0m\u001b[0;34m-\u001b[0m\u001b[0;36m2\u001b[0m\u001b[0;34m:\u001b[0m\u001b[0;34m]\u001b[0m\u001b[0;34m\u001b[0m\u001b[0;34m\u001b[0m\u001b[0m\n\u001b[1;32m    579\u001b[0m     \u001b[0margs\u001b[0m \u001b[0;34m=\u001b[0m \u001b[0mtt\u001b[0m\u001b[0;34m[\u001b[0m\u001b[0;34m:\u001b[0m\u001b[0;36m6\u001b[0m\u001b[0;34m]\u001b[0m \u001b[0;34m+\u001b[0m \u001b[0;34m(\u001b[0m\u001b[0mfraction\u001b[0m\u001b[0;34m,\u001b[0m\u001b[0;34m)\u001b[0m\u001b[0;34m\u001b[0m\u001b[0;34m\u001b[0m\u001b[0m\n",
      "\u001b[0;32m/home/conda/envs/lamos_2020.3/lib/python3.7/_strptime.py\u001b[0m in \u001b[0;36m_strptime\u001b[0;34m(data_string, format)\u001b[0m\n\u001b[1;32m    357\u001b[0m     \u001b[0;32mif\u001b[0m \u001b[0;32mnot\u001b[0m \u001b[0mfound\u001b[0m\u001b[0;34m:\u001b[0m\u001b[0;34m\u001b[0m\u001b[0;34m\u001b[0m\u001b[0m\n\u001b[1;32m    358\u001b[0m         raise ValueError(\"time data %r does not match format %r\" %\n\u001b[0;32m--> 359\u001b[0;31m                          (data_string, format))\n\u001b[0m\u001b[1;32m    360\u001b[0m     \u001b[0;32mif\u001b[0m \u001b[0mlen\u001b[0m\u001b[0;34m(\u001b[0m\u001b[0mdata_string\u001b[0m\u001b[0;34m)\u001b[0m \u001b[0;34m!=\u001b[0m \u001b[0mfound\u001b[0m\u001b[0;34m.\u001b[0m\u001b[0mend\u001b[0m\u001b[0;34m(\u001b[0m\u001b[0;34m)\u001b[0m\u001b[0;34m:\u001b[0m\u001b[0;34m\u001b[0m\u001b[0;34m\u001b[0m\u001b[0m\n\u001b[1;32m    361\u001b[0m         raise ValueError(\"unconverted data remains: %s\" %\n",
      "\u001b[0;31mValueError\u001b[0m: time data 'ERA5_20170601_010000.nc' does not match format 'in_CNET_%Y%m%d_%H%M%S'"
     ]
    }
   ],
   "source": [
    "epsilon = 0.99*np.ones(16)\n",
    "epsilon[np.array([5,6,7])] = 0.98\n",
    "spec = files[0]\n",
    "print(spec)\n",
    "#atm_file = \"/mnt/beegfs/user/phi.richter/ERA5_atm_interpolated/ERA5\"+spec.split(\"in_CNET\")[1].split(\".nc\")[0]+\".csv\"\n",
    "model.read_cloudnet(os.path.join(path_retrievals, spec), pattern_fname=\"ERA5_%Y%m%d_%H%M%S.nc\")\n",
    "#model.plot_atmosphere()\n",
    "#model.replace_atmosphere(atm_file)\n",
    "#model.plot_atmosphere()"
   ]
  },
  {
   "cell_type": "code",
   "execution_count": 9,
   "metadata": {},
   "outputs": [],
   "source": [
    "o3_ppmv = 0.*np.ones(z.size)#np.ones(z.size)#28.9644 / 47.9982 * 1e6 * o3\n",
    "co2 = np.zeros(z.size)\n",
    "n2o = np.zeros(z.size)\n",
    "ch4 = np.zeros(z.size)\n",
    "tg = model.read_trace_gases(z, co2, n2o, ch4, o3_ppmv)\n",
    "#model.plot_atmosphere()"
   ]
  },
  {
   "cell_type": "code",
   "execution_count": 10,
   "metadata": {},
   "outputs": [],
   "source": [
    "epsilon = 0.99*np.ones(16)\n",
    "atm = \"H444444\"#\"HAAA4A4\"\n",
    "epsilon[np.array([7,8,9,10])] = 0.98\n",
    "in_cld_rrtm = model.create_inputfile_cloud()\n",
    "input_rrtm = model.create_inputfile_atm_terrestrial(cloud=0, semiss=epsilon, atm=atm)\n",
    "model.run_RRTMG_terrestrial(clouds=False)\n",
    "input_rrtm = model.create_inputfile_atm_terrestrial(cloud=2, semiss=epsilon, atm=atm)\n",
    "model.run_RRTMG_terrestrial(clouds=True)\n",
    "input_rrtm = model.create_inputfile_atm_solar(cloud=0, atm=atm)\n",
    "model.run_RRTMG_solar(clouds=False)\n",
    "input_rrtm = model.create_inputfile_atm_solar(cloud=2, atm=atm)\n",
    "model.run_RRTMG_solar(clouds=True)\n",
    "model.write_results(\"/home/phi.richter/out.nc\")"
   ]
  }
 ],
 "metadata": {
  "kernelspec": {
   "display_name": "v2020.3 LAMOS (py3.7.8)",
   "language": "python",
   "name": "lamos_2020.3"
  },
  "language_info": {
   "codemirror_mode": {
    "name": "ipython",
    "version": 3
   },
   "file_extension": ".py",
   "mimetype": "text/x-python",
   "name": "python",
   "nbconvert_exporter": "python",
   "pygments_lexer": "ipython3",
   "version": "3.7.8"
  }
 },
 "nbformat": 4,
 "nbformat_minor": 4
}
