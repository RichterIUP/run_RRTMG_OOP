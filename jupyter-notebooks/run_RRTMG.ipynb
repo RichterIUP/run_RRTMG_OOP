{
 "cells": [
  {
   "cell_type": "code",
   "execution_count": 1,
   "metadata": {},
   "outputs": [],
   "source": [
    "import os\n",
    "import rrtmg as FLUXES"
   ]
  },
  {
   "cell_type": "code",
   "execution_count": 2,
   "metadata": {},
   "outputs": [],
   "source": [
    "path_retrievals = \"/home/philipp/Doktorandenzeit/DATA_PHD/FTIR/TCWret/retrievals_single/Polarstern_retrievals_diff_shape/droxtals/RESULTS/\"\n",
    "path_input = \"/home/philipp/Doktorandenzeit/DATA_PHD/FTIR/PASCAL_SiPCA_FRAM_2017/radiance\"\n",
    "ssp_ice = \"/home/philipp/Doktorandenzeit/SOFTWARE_PHD/Total_Cloud_Water_retrieval/ssp_database/ssp_db.Droxtal.gamma.0p100\"\n",
    "files = sorted(os.listdir(path_retrievals))"
   ]
  },
  {
   "cell_type": "code",
   "execution_count": 3,
   "metadata": {},
   "outputs": [],
   "source": [
    "model = FLUXES.RRTMG(os.getcwd() + \"/rrtmg_lw_v5.00_linux_pgi\", os.getcwd() + \"/rrtmg_sw_v5.00_linux_pgi\", \\\n",
    "                  [\"/home/philipp/Doktorandenzeit/SOFTWARE_PHD/Total_Cloud_Water_retrieval/ssp_database/ssp_db.mie_wat.gamma_sigma_0p100\", ssp_ice])"
   ]
  },
  {
   "cell_type": "code",
   "execution_count": 4,
   "metadata": {},
   "outputs": [
    {
     "name": "stdout",
     "output_type": "stream",
     "text": [
      "results_20170611214800.nc\n"
     ]
    },
    {
     "data": {
      "text/plain": [
       "({'LWP(gm-2)': array([28.6220657]),\n",
       "  'IWP(gm-2)': array([4.83759882e-19]),\n",
       "  'rliq(um)': array([13.1786977]),\n",
       "  'rice(um)': array([20.]),\n",
       "  'clt': array([1.]),\n",
       "  'red_chi_2': array(7.82385786)},\n",
       " {'Latitude': 81.821346, 'Longitude': 11.292583, 'SZA': 74.4372790799})"
      ]
     },
     "execution_count": 4,
     "metadata": {},
     "output_type": "execute_result"
    }
   ],
   "source": [
    "spec = files[200]\n",
    "model.read_tcwret(os.path.join(path_retrievals, spec), path_input)\n",
    "model.get_cparam(), model.get_position()"
   ]
  },
  {
   "cell_type": "code",
   "execution_count": 5,
   "metadata": {},
   "outputs": [],
   "source": [
    "in_cld_rrtm = model.create_inputfile_cloud()\n",
    "input_rrtm = model.create_inputfile_atm_terrestrial(cloud=2, co2_mix=400)\n",
    "model.run_RRTMG_terrestrial()\n",
    "model.remove_rrtmg_files()\n",
    "in_cld_rrtm = model.create_inputfile_cloud()\n",
    "input_rrtm = model.create_inputfile_atm_solar(cloud=2, co2_mix=400)\n",
    "model.run_RRTMG_solar()\n",
    "model.remove_rrtmg_files()"
   ]
  },
  {
   "cell_type": "code",
   "execution_count": 16,
   "metadata": {},
   "outputs": [
    {
     "data": {
      "text/plain": [
       "0.2027"
      ]
     },
     "execution_count": 16,
     "metadata": {},
     "output_type": "execute_result"
    }
   ],
   "source": [
    "win = 15\n",
    "model.get_fluxes_terrestrial(win)['DOWNWARD FLUX'].iloc[-1]"
   ]
  },
  {
   "cell_type": "code",
   "execution_count": 17,
   "metadata": {},
   "outputs": [
    {
     "data": {
      "text/plain": [
       "[2380.0, 2600.0]"
      ]
     },
     "execution_count": 17,
     "metadata": {},
     "output_type": "execute_result"
    }
   ],
   "source": [
    "model.get_windows_terrestrial()[win-1]"
   ]
  },
  {
   "cell_type": "code",
   "execution_count": 18,
   "metadata": {},
   "outputs": [
    {
     "data": {
      "text/plain": [
       "-7702.509451238737"
      ]
     },
     "execution_count": 18,
     "metadata": {},
     "output_type": "execute_result"
    }
   ],
   "source": [
    "model.integrate_spectral_radiance(model.get_windows_terrestrial()[win-1])"
   ]
  }
 ],
 "metadata": {
  "kernelspec": {
   "display_name": "Python 3",
   "language": "python",
   "name": "python3"
  },
  "language_info": {
   "codemirror_mode": {
    "name": "ipython",
    "version": 3
   },
   "file_extension": ".py",
   "mimetype": "text/x-python",
   "name": "python",
   "nbconvert_exporter": "python",
   "pygments_lexer": "ipython3",
   "version": "3.7.6"
  }
 },
 "nbformat": 4,
 "nbformat_minor": 4
}
